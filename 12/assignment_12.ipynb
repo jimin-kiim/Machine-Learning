{
 "cells": [
  {
   "cell_type": "markdown",
   "metadata": {},
   "source": [
    "# Principal Component Analysis"
   ]
  },
  {
   "cell_type": "markdown",
   "metadata": {},
   "source": [
    "## import library"
   ]
  },
  {
   "cell_type": "code",
   "execution_count": 1100,
   "metadata": {},
   "outputs": [],
   "source": [
    "import numpy as np\n",
    "import matplotlib.pyplot as plt\n",
    "import matplotlib.colors as colors\n",
    "from matplotlib import cm"
   ]
  },
  {
   "cell_type": "markdown",
   "metadata": {},
   "source": [
    "## load data"
   ]
  },
  {
   "cell_type": "code",
   "execution_count": 1101,
   "metadata": {},
   "outputs": [
    {
     "name": "stdout",
     "output_type": "stream",
     "text": [
      "number of data : 50\n",
      "number of feature : 2\n"
     ]
    }
   ],
   "source": [
    "fname_data  = 'assignment_12_data.txt'\n",
    "feature0    = np.genfromtxt(fname_data, delimiter=',')\n",
    "\n",
    "number_data     = np.size(feature0, 0)\n",
    "number_feature  = np.size(feature0, 1)\n",
    "\n",
    "print('number of data : {}'.format(number_data))\n",
    "print('number of feature : {}'.format(number_feature))"
   ]
  },
  {
   "cell_type": "markdown",
   "metadata": {},
   "source": [
    "## plot the input data"
   ]
  },
  {
   "cell_type": "code",
   "execution_count": 1102,
   "metadata": {},
   "outputs": [
    {
     "data": {
      "image/png": "[encoded data removed]",
      "text/plain": [
       "<Figure size 576x576 with 1 Axes>"
      ]
     },
     "metadata": {
      "needs_background": "light"
     },
     "output_type": "display_data"
    }
   ],
   "source": [
    "plt.figure(figsize=(8,8))   \n",
    "plt.title('input data')\n",
    "\n",
    "x0 = feature0[:,0]\n",
    "y0 = feature0[:,1]\n",
    "\n",
    "plt.scatter(x0, y0, color='blue')\n",
    "\n",
    "plt.tight_layout()\n",
    "plt.show()"
   ]
  },
  {
   "cell_type": "markdown",
   "metadata": {},
   "source": [
    "## Normalization (Z-scoring)\n",
    "- shape of feature = $n \\times m$ where $n$ is the number of data and $m$ is the dimension of features"
   ]
  },
  {
   "cell_type": "code",
   "execution_count": 1103,
   "metadata": {},
   "outputs": [],
   "source": [
    "def normalize(feature):\n",
    "\n",
    "    # ++++++++++++++++++++++++++++++++++++++++++++++++++\n",
    "    # complete the blanks\n",
    "    #\n",
    "    x=feature[:, 0]\n",
    "    # print(feature.shape)\n",
    "    y = feature[:, 1]\n",
    "    x_mean=x.mean()\n",
    "    y_mean=y.mean()\n",
    "    x_std=np.std(x)\n",
    "    y_std=np.std(y)\n",
    "    x_result=(x-x_mean)/x_std\n",
    "    y_result=(y-y_mean)/y_std\n",
    "    feature_normalize=np.c_[x_result,y_result]\n",
    "    #\n",
    "    # ++++++++++++++++++++++++++++++++++++++++++++++++++\n",
    "    \n",
    "    return feature_normalize"
   ]
  },
  {
   "cell_type": "code",
   "execution_count": 1104,
   "metadata": {},
   "outputs": [],
   "source": [
    "feature = normalize(feature0)\n",
    "# print(len(feature))\n",
    "x   = feature[:, 0]\n",
    "y   = feature[:, 1]\n",
    "# print(\"x\",np.mean(x),np.std(x))\n",
    "# print(\"y\",y.mean(),y.std())\n",
    "# print(feature,feature.shape)\n",
    "min_x = np.min(x)\n",
    "min_y = np.min(y)\n",
    "\n",
    "max_x = np.max(x)\n",
    "max_y = np.max(y)"
   ]
  },
  {
   "cell_type": "markdown",
   "metadata": {},
   "source": [
    "## compute covariance matrix\n",
    "- shape of feature = $n \\times m$ where $n$ is the number of data and $m$ is the dimension of features"
   ]
  },
  {
   "cell_type": "code",
   "execution_count": 1105,
   "metadata": {},
   "outputs": [],
   "source": [
    "def compute_covariance(feature):\n",
    "\n",
    "    # ++++++++++++++++++++++++++++++++++++++++++++++++++\n",
    "    # complete the blanks\n",
    "    Z=feature\n",
    "    Sigma=np.dot(Z.T,Z)/len(feature)\n",
    "\n",
    "\n",
    "    #\n",
    "    # ++++++++++++++++++++++++++++++++++++++++++++++++++\n",
    "\n",
    "    return Sigma"
   ]
  },
  {
   "cell_type": "markdown",
   "metadata": {},
   "source": [
    "## compute principal components\n",
    "- `np.linalg.eig`\n",
    "- `argsort()`\n",
    "- return the eigenvalues and the eigenvectors in a decreasing order according to the eigenvalues"
   ]
  },
  {
   "cell_type": "code",
   "execution_count": 1106,
   "metadata": {},
   "outputs": [],
   "source": [
    "def compute_principal_component(feature):\n",
    "\n",
    "    # ++++++++++++++++++++++++++++++++++++++++++++++++++\n",
    "    # complete the blanks\n",
    "    #\n",
    "    Sigma = compute_covariance(feature)\n",
    "    eigen_value,eigen_vector=np.linalg.eig(Sigma)\n",
    "    sorted_indices=eigen_value.argsort()\n",
    "    principal_component_1=eigen_value[sorted_indices[-1]]*eigen_vector[sorted_indices[-1]]\n",
    "    # print(principal_component_1)\n",
    "    principal_component_2=eigen_value[sorted_indices[-2]]*eigen_vector[sorted_indices[-2]]\n",
    "    # print(principal_component_1, principal_component_2)\n",
    "    #\n",
    "    # ++++++++++++++++++++++++++++++++++++++++++++++++++\n",
    "    \n",
    "    return (principal_component_1, principal_component_2)"
   ]
  },
  {
   "cell_type": "markdown",
   "metadata": {},
   "source": [
    "## compute the projection of point onto the axis\n",
    "- `np.matmul`\n",
    "- `np.dot`\n",
    "- shape of feature = $n \\times m$ where $n$ is the number of data and $m$ is the dimension of features\n",
    "- shape of vector = $m \\times 1$ where $m$ is the dimension of features"
   ]
  },
  {
   "cell_type": "code",
   "execution_count": 1107,
   "metadata": {},
   "outputs": [],
   "source": [
    "def compute_projection_onto_line(feature, vector):\n",
    "\n",
    "    # ++++++++++++++++++++++++++++++++++++++++++++++++++\n",
    "    # complete the blanks\n",
    "    #feature들을 vector가 나타내는 라인에 프로젝션한 포인트 \n",
    "    # print(feature.shape,vector.shape)\n",
    "    # print(feature)\n",
    "    # print(vector)\n",
    "    # print(np.dot(vector,vector),sum(vector**2))\n",
    "    # print((np.dot(feature, vector)/np.dot(vector,vector)).shape)\n",
    "    \n",
    "    # print(np.dot(feature, vector))\n",
    "    # print(np.dot(feature, vector))\n",
    "    # print(np.dot(feature, vector)/np.dot(vector,vector))\n",
    "    projection = (np.dot(feature, vector)/np.linalg.norm(vector)**2).reshape(len(feature),1)*vector\n",
    "    print(projection)\n",
    "    #\n",
    "    # ++++++++++++++++++++++++++++++++++++++++++++++++++\n",
    "\n",
    "    return projection"
   ]
  },
  {
   "cell_type": "markdown",
   "metadata": {},
   "source": [
    "## compute the principal components and the projection of feature"
   ]
  },
  {
   "cell_type": "code",
   "execution_count": 1108,
   "metadata": {},
   "outputs": [
    {
     "name": "stdout",
     "output_type": "stream",
     "text": [
      "[[ 5.34739897e-01 -5.34739897e-01]\n",
      " [-1.88263833e-01  1.88263833e-01]\n",
      " [-2.82615439e-01  2.82615439e-01]\n",
      " [ 1.08331967e-01 -1.08331967e-01]\n",
      " [-8.37203723e-02  8.37203723e-02]\n",
      " [-7.75617984e-01  7.75617984e-01]\n",
      " [ 4.55029296e-01 -4.55029296e-01]\n",
      " [-5.51284376e-04  5.51284376e-04]\n",
      " [-7.31981376e-02  7.31981376e-02]\n",
      " [-5.96970076e-02  5.96970076e-02]\n",
      " [ 5.69324762e-02 -5.69324762e-02]\n",
      " [-6.15370002e-02  6.15370002e-02]\n",
      " [ 1.10903747e-01 -1.10903747e-01]\n",
      " [ 7.08733207e-01 -7.08733207e-01]\n",
      " [ 1.12769984e-01 -1.12769984e-01]\n",
      " [ 6.25419212e-02 -6.25419212e-02]\n",
      " [-2.67941638e-02  2.67941638e-02]\n",
      " [-3.04574210e-01  3.04574210e-01]\n",
      " [-6.82290870e-01  6.82290870e-01]\n",
      " [ 6.89633433e-01 -6.89633433e-01]\n",
      " [-8.85072014e-02  8.85072014e-02]\n",
      " [-7.76360996e-02  7.76360996e-02]\n",
      " [ 1.58905264e-01 -1.58905264e-01]\n",
      " [ 2.72721950e-01 -2.72721950e-01]\n",
      " [-7.35879271e-02  7.35879271e-02]\n",
      " [-2.99837980e-01  2.99837980e-01]\n",
      " [-6.51109324e-02  6.51109324e-02]\n",
      " [ 7.24502482e-01 -7.24502482e-01]\n",
      " [-4.14070420e-01  4.14070420e-01]\n",
      " [-9.13985063e-02  9.13985063e-02]\n",
      " [-7.17498064e-01  7.17498064e-01]\n",
      " [ 5.58022593e-01 -5.58022593e-01]\n",
      " [ 1.84233169e-01 -1.84233169e-01]\n",
      " [ 7.36873004e-01 -7.36873004e-01]\n",
      " [-4.84167641e-02  4.84167641e-02]\n",
      " [-2.78632303e-01  2.78632303e-01]\n",
      " [ 6.21256379e-02 -6.21256379e-02]\n",
      " [ 3.16637725e-01 -3.16637725e-01]\n",
      " [-7.76074585e-02  7.76074585e-02]\n",
      " [ 9.00384035e-02 -9.00384035e-02]\n",
      " [-3.18902387e-01  3.18902387e-01]\n",
      " [-6.94361037e-02  6.94361037e-02]\n",
      " [ 9.38729769e-02 -9.38729769e-02]\n",
      " [-1.65824719e-01  1.65824719e-01]\n",
      " [ 3.98716624e-01 -3.98716624e-01]\n",
      " [-2.07381737e-01  2.07381737e-01]\n",
      " [-1.61174797e-01  1.61174797e-01]\n",
      " [-9.25103384e-01  9.25103384e-01]\n",
      " [ 2.30870458e-01 -2.30870458e-01]\n",
      " [-4.81491299e-02  4.81491299e-02]]\n",
      "[[-1.058055   -1.058055  ]\n",
      " [ 0.6520829   0.6520829 ]\n",
      " [-0.865779   -0.865779  ]\n",
      " [-1.16238927 -1.16238927]\n",
      " [-0.90030097 -0.90030097]\n",
      " [ 0.69071439  0.69071439]\n",
      " [-0.8971826  -0.8971826 ]\n",
      " [ 1.65567919  1.65567919]\n",
      " [ 0.02120705  0.02120705]\n",
      " [ 0.55276016  0.55276016]\n",
      " [ 0.44666233  0.44666233]\n",
      " [ 0.39089012  0.39089012]\n",
      " [ 0.06341096  0.06341096]\n",
      " [ 0.37183804  0.37183804]\n",
      " [-1.10602267 -1.10602267]\n",
      " [ 1.3548874   1.3548874 ]\n",
      " [ 0.62705978  0.62705978]\n",
      " [-0.67604566 -0.67604566]\n",
      " [ 1.64753055  1.64753055]\n",
      " [ 0.33795229  0.33795229]\n",
      " [ 1.56798978  1.56798978]\n",
      " [-0.2750713  -0.2750713 ]\n",
      " [ 1.26206331  1.26206331]\n",
      " [-0.0365951  -0.0365951 ]\n",
      " [-1.17741914 -1.17741914]\n",
      " [-0.35930365 -0.35930365]\n",
      " [ 0.87476969  0.87476969]\n",
      " [ 0.82871892  0.82871892]\n",
      " [-0.59553519 -0.59553519]\n",
      " [ 0.00490181  0.00490181]\n",
      " [ 0.16117573  0.16117573]\n",
      " [ 1.06991934  1.06991934]\n",
      " [-0.94663328 -0.94663328]\n",
      " [ 0.41897851  0.41897851]\n",
      " [-0.48017708 -0.48017708]\n",
      " [ 0.9567013   0.9567013 ]\n",
      " [-1.19323714 -1.19323714]\n",
      " [ 0.98454723  0.98454723]\n",
      " [-1.81013869 -1.81013869]\n",
      " [ 0.19692974  0.19692974]\n",
      " [ 0.69068354  0.69068354]\n",
      " [-0.62805179 -0.62805179]\n",
      " [-0.91687964 -0.91687964]\n",
      " [ 0.6998003   0.6998003 ]\n",
      " [-1.28178733 -1.28178733]\n",
      " [ 0.19230743  0.19230743]\n",
      " [-2.25777857 -2.25777857]\n",
      " [-0.85771369 -0.85771369]\n",
      " [-0.26016207 -0.26016207]\n",
      " [ 1.02009704  1.02009704]]\n"
     ]
    }
   ],
   "source": [
    "\n",
    "(principal_component_1, principal_component_2) = compute_principal_component(feature)\n",
    "\n",
    "projection1 = compute_projection_onto_line(feature, principal_component_1)\n",
    "projection2 = compute_projection_onto_line(feature, principal_component_2)"
   ]
  },
  {
   "cell_type": "markdown",
   "metadata": {},
   "source": [
    "---"
   ]
  },
  {
   "cell_type": "markdown",
   "metadata": {},
   "source": [
    "---"
   ]
  },
  {
   "cell_type": "markdown",
   "metadata": {},
   "source": [
    "## functions for presenting the results"
   ]
  },
  {
   "cell_type": "markdown",
   "metadata": {},
   "source": [
    "---"
   ]
  },
  {
   "cell_type": "markdown",
   "metadata": {},
   "source": [
    "---"
   ]
  },
  {
   "cell_type": "code",
   "execution_count": 1109,
   "metadata": {},
   "outputs": [],
   "source": [
    "def function_result_01():\n",
    "   \n",
    "    plt.figure(figsize=(8,8))\n",
    "    plt.title('data normalized by z-scoring')\n",
    "    plt.scatter(x, y, color='blue')\n",
    "\n",
    "    plt.xlim(min_x - 0.5, max_x + 0.5)\n",
    "    plt.ylim(min_y - 0.5, max_y + 0.5)\n",
    "\n",
    "    plt.tight_layout()\n",
    "    plt.show()"
   ]
  },
  {
   "cell_type": "code",
   "execution_count": 1110,
   "metadata": {},
   "outputs": [],
   "source": [
    "def function_result_02():\n",
    "\n",
    "    plt.figure(figsize=(8,8))\n",
    "    plt.title('principal components')\n",
    "\n",
    "    # ++++++++++++++++++++++++++++++++++++++++++++++++++\n",
    "    # complete the blanks\n",
    "    #\n",
    "    plt.scatter(x, y, color='blue')\n",
    "    origin = np.array([[0, 0],[0, 0]])\n",
    "    vectors=np.array([principal_component_1,principal_component_2])\n",
    "    # print(principal_component_1,principal_component_2)\n",
    "    # print(vectors)\n",
    "    # print(projection1)\n",
    "    plt.quiver(*origin, vectors[:,0], vectors[:,1], color=['r','g'],scale=10)\n",
    "    #\n",
    "    # ++++++++++++++++++++++++++++++++++++++++++++++++++\n",
    "\n",
    "    plt.xlim(min_x - 0.5, max_x + 0.5)\n",
    "    plt.ylim(min_y - 0.5, max_y + 0.5)\n",
    "\n",
    "    plt.tight_layout()\n",
    "    plt.show()"
   ]
  },
  {
   "cell_type": "code",
   "execution_count": 1111,
   "metadata": {},
   "outputs": [],
   "source": [
    "def function_result_03():\n",
    "\n",
    "    plt.figure(figsize=(8,8))\n",
    "    plt.title('first principle axis')\n",
    "\n",
    "    # ++++++++++++++++++++++++++++++++++++++++++++++++++\n",
    "    # complete the blanks\n",
    "    #\n",
    "    plt.scatter(x, y, color='blue')\n",
    "    f=principal_component_1[1]/principal_component_1[0]*x\n",
    "    plt.plot(x,f,'-',color='red')\n",
    "    #\n",
    "    # ++++++++++++++++++++++++++++++++++++++++++++++++++\n",
    "\n",
    "    plt.xlim(min_x - 0.5, max_x + 0.5)\n",
    "    plt.ylim(min_y - 0.5, max_y + 0.5)\n",
    "\n",
    "    plt.tight_layout()\n",
    "    plt.show()"
   ]
  },
  {
   "cell_type": "code",
   "execution_count": 1112,
   "metadata": {},
   "outputs": [],
   "source": [
    "def function_result_04():\n",
    "\n",
    "    plt.figure(figsize=(8,8))\n",
    "    plt.title('second principle axis')\n",
    "\n",
    "    # ++++++++++++++++++++++++++++++++++++++++++++++++++\n",
    "    # complete the blanks\n",
    "    #\n",
    "    plt.scatter(x, y, color='blue')\n",
    "    f=principal_component_2[1]/principal_component_2[0]*x\n",
    "    plt.plot(x,f,'-',color='red')\n",
    "    #\n",
    "    # ++++++++++++++++++++++++++++++++++++++++++++++++++\n",
    "\n",
    "    plt.xlim(min_x - 0.5, max_x + 0.5)\n",
    "    plt.ylim(min_y - 0.5, max_y + 0.5)\n",
    "\n",
    "    plt.tight_layout()\n",
    "    plt.show()"
   ]
  },
  {
   "cell_type": "code",
   "execution_count": 1113,
   "metadata": {},
   "outputs": [],
   "source": [
    "def function_result_05():\n",
    "\n",
    "    plt.figure(figsize=(8,8))\n",
    "    plt.title('projection onto the first principle axis')\n",
    "\n",
    "    # ++++++++++++++++++++++++++++++++++++++++++++++++++\n",
    "    # complete the blanks\n",
    "    #\n",
    "    plt.scatter(x, y, color='blue')\n",
    "    f=principal_component_1[1]/principal_component_1[0]*x\n",
    "    plt.plot(x,f,'-',color='red')\n",
    "    plt.scatter(projection1[:,0],projection1[:,1],color='green')\n",
    "    #\n",
    "    # ++++++++++++++++++++++++++++++++++++++++++++++++++\n",
    "\n",
    "    plt.xlim(min_x - 0.5, max_x + 0.5)\n",
    "    plt.ylim(min_y - 0.5, max_y + 0.5)\n",
    "\n",
    "    plt.tight_layout()\n",
    "    plt.show()\n"
   ]
  },
  {
   "cell_type": "code",
   "execution_count": 1114,
   "metadata": {},
   "outputs": [],
   "source": [
    "def function_result_06():\n",
    "\n",
    "    plt.figure(figsize=(8,8))\n",
    "    plt.title('projection onto the second principle axis')\n",
    "\n",
    "    # ++++++++++++++++++++++++++++++++++++++++++++++++++\n",
    "    # complete the blanks\n",
    "    #\n",
    "    plt.scatter(x, y, color='blue')\n",
    "    f=principal_component_2[1]/principal_component_2[0]*x\n",
    "    plt.plot(x,f,'-',color='red')\n",
    "    plt.scatter(projection2[:,0],projection2[:,1],color='green')\n",
    "    #\n",
    "    # ++++++++++++++++++++++++++++++++++++++++++++++++++\n",
    "\n",
    "    plt.xlim(min_x - 0.5, max_x + 0.5)\n",
    "    plt.ylim(min_y - 0.5, max_y + 0.5)\n",
    "\n",
    "    plt.tight_layout()\n",
    "    plt.show()"
   ]
  },
  {
   "cell_type": "code",
   "execution_count": 1115,
   "metadata": {},
   "outputs": [],
   "source": [
    "def function_result_07():\n",
    "\n",
    "    plt.figure(figsize=(8,8))\n",
    "    plt.title('projection onto the first principle axis')\n",
    "\n",
    "    # ++++++++++++++++++++++++++++++++++++++++++++++++++\n",
    "    # complete the blanks\n",
    "    #\n",
    "\n",
    "\n",
    "\n",
    "    #\n",
    "    # ++++++++++++++++++++++++++++++++++++++++++++++++++\n",
    "\n",
    "    plt.xlim(min_x - 0.5, max_x + 0.5)\n",
    "    plt.ylim(min_y - 0.5, max_y + 0.5)\n",
    "\n",
    "    plt.tight_layout()\n",
    "    plt.show()"
   ]
  },
  {
   "cell_type": "code",
   "execution_count": 1116,
   "metadata": {},
   "outputs": [],
   "source": [
    "def function_result_08():\n",
    "\n",
    "    plt.figure(figsize=(8,8))\n",
    "    plt.title('projection to the second principle axis')\n",
    "\n",
    "    # ++++++++++++++++++++++++++++++++++++++++++++++++++\n",
    "    # complete the blanks\n",
    "    #\n",
    "\n",
    "\n",
    "\n",
    "    #\n",
    "    # ++++++++++++++++++++++++++++++++++++++++++++++++++\n",
    "\n",
    "    plt.xlim(min_x - 0.5, max_x + 0.5)\n",
    "    plt.ylim(min_y - 0.5, max_y + 0.5)\n",
    "\n",
    "    plt.tight_layout()\n",
    "    plt.show()"
   ]
  },
  {
   "cell_type": "markdown",
   "metadata": {},
   "source": [
    "---"
   ]
  },
  {
   "cell_type": "markdown",
   "metadata": {},
   "source": [
    "---"
   ]
  },
  {
   "cell_type": "markdown",
   "metadata": {},
   "source": [
    "## results"
   ]
  },
  {
   "cell_type": "markdown",
   "metadata": {},
   "source": [
    "---"
   ]
  },
  {
   "cell_type": "markdown",
   "metadata": {},
   "source": [
    "---"
   ]
  },
  {
   "cell_type": "code",
   "execution_count": 1117,
   "metadata": {},
   "outputs": [
    {
     "name": "stdout",
     "output_type": "stream",
     "text": [
      "**************************************************\n",
      "## [RESULT 01]\n",
      "**************************************************\n"
     ]
    },
    {
     "data": {
      "image/png": "[encoded data removed]",
      "text/plain": [
       "<Figure size 576x576 with 1 Axes>"
      ]
     },
     "metadata": {
      "needs_background": "light"
     },
     "output_type": "display_data"
    },
    {
     "name": "stdout",
     "output_type": "stream",
     "text": [
      "**************************************************\n",
      "## [RESULT 02]\n",
      "**************************************************\n"
     ]
    },
    {
     "data": {
      "image/png": "[encoded data removed]",
      "text/plain": [
       "<Figure size 576x576 with 1 Axes>"
      ]
     },
     "metadata": {
      "needs_background": "light"
     },
     "output_type": "display_data"
    },
    {
     "name": "stdout",
     "output_type": "stream",
     "text": [
      "**************************************************\n",
      "## [RESULT 03]\n",
      "**************************************************\n"
     ]
    },
    {
     "data": {
      "image/png": "[encoded data removed]",
      "text/plain": [
       "<Figure size 576x576 with 1 Axes>"
      ]
     },
     "metadata": {
      "needs_background": "light"
     },
     "output_type": "display_data"
    },
    {
     "name": "stdout",
     "output_type": "stream",
     "text": [
      "**************************************************\n",
      "## [RESULT 04]\n",
      "**************************************************\n"
     ]
    },
    {
     "data": {
      "image/png": "[encoded data removed]",
      "text/plain": [
       "<Figure size 576x576 with 1 Axes>"
      ]
     },
     "metadata": {
      "needs_background": "light"
     },
     "output_type": "display_data"
    },
    {
     "name": "stdout",
     "output_type": "stream",
     "text": [
      "**************************************************\n",
      "## [RESULT 05]\n",
      "**************************************************\n"
     ]
    },
    {
     "data": {
      "image/png": "[encoded data removed]",
      "text/plain": [
       "<Figure size 576x576 with 1 Axes>"
      ]
     },
     "metadata": {
      "needs_background": "light"
     },
     "output_type": "display_data"
    },
    {
     "name": "stdout",
     "output_type": "stream",
     "text": [
      "**************************************************\n",
      "## [RESULT 06]\n",
      "**************************************************\n"
     ]
    },
    {
     "data": {
      "image/png": "[encoded data removed]",
      "text/plain": [
       "<Figure size 576x576 with 1 Axes>"
      ]
     },
     "metadata": {
      "needs_background": "light"
     },
     "output_type": "display_data"
    },
    {
     "name": "stdout",
     "output_type": "stream",
     "text": [
      "**************************************************\n",
      "## [RESULT 07]\n",
      "**************************************************\n"
     ]
    },
    {
     "data": {
      "image/png": "[encoded data removed]",
      "text/plain": [
       "<Figure size 576x576 with 1 Axes>"
      ]
     },
     "metadata": {
      "needs_background": "light"
     },
     "output_type": "display_data"
    },
    {
     "name": "stdout",
     "output_type": "stream",
     "text": [
      "**************************************************\n",
      "## [RESULT 08]\n",
      "**************************************************\n"
     ]
    },
    {
     "data": {
      "image/png": "[encoded data removed]",
      "text/plain": [
       "<Figure size 576x576 with 1 Axes>"
      ]
     },
     "metadata": {
      "needs_background": "light"
     },
     "output_type": "display_data"
    }
   ],
   "source": [
    "number_result = 8\n",
    "\n",
    "for i in range(number_result):\n",
    "    title = '## [RESULT {:02d}]'.format(i+1)\n",
    "    name_function = 'function_result_{:02d}()'.format(i+1)\n",
    "\n",
    "    print('**************************************************')\n",
    "    print(title)\n",
    "    print('**************************************************')\n",
    "    eval(name_function)"
   ]
  }
 ],
 "metadata": {
  "interpreter": {
   "hash": "40d3a090f54c6569ab1632332b64b2c03c39dcf918b08424e98f38b5ae0af88f"
  },
  "kernelspec": {
   "display_name": "Python 3.8.5",
   "language": "python",
   "name": "python3"
  },
  "language_info": {
   "codemirror_mode": {
    "name": "ipython",
    "version": 3
   },
   "file_extension": ".py",
   "mimetype": "text/x-python",
   "name": "python",
   "nbconvert_exporter": "python",
   "pygments_lexer": "ipython3",
   "version": "3.8.8"
  },
  "metadata": {
   "interpreter": {
    "hash": "aee8b7b246df8f9039afb4144a1f6fd8d2ca17a180786b69acc140d282b71a49"
   }
  }
 },
 "nbformat": 4,
 "nbformat_minor": 1
}
